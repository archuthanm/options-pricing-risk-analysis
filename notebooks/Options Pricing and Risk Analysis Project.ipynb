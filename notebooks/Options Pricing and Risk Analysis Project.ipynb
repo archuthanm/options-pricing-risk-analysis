{
 "cells": [
  {
   "cell_type": "code",
   "execution_count": null,
   "metadata": {},
   "outputs": [],
   "source": [
    "# Standard imports\n",
    "import numpy as np\n",
    "import pandas as pd\n",
    "import matplotlib.pyplot as plt\n",
    "import seaborn as sns\n",
    "\n",
    "# Monte Carlo module functions\n",
    "from src.monte_carlo import (\n",
    "    mc_baseline,\n",
    "    mc_antithetic,\n",
    "    mc_delta_control,\n",
    "    mc_gamma_control,\n",
    "    mc_antithetic_delta,\n",
    "    mc_antithetic_delta_gamma,\n",
    "    mc_delta,\n",
    "    mc_gamma,\n",
    "    mc_vega,\n",
    "    mc_theta,\n",
    "    mc_rho,\n",
    "    compute_greeks as compute_greeks_mc,       # Monte Carlo Greeks\n",
    "    benchmark_mc_variants\n",
    ")\n",
    "\n",
    "# Greeks module\n",
    "from src.greeks import compare_greeks\n",
    "\n",
    "# Black-Scholes Greeks\n",
    "from src.black_scholes import compute_greeks as compute_greeks_bs\n",
    "\n",
    "# Reproducibility\n",
    "np.random.seed(42)\n",
    "sns.set_style(\"whitegrid\")"
   ]
  },
  {
   "cell_type": "markdown",
   "metadata": {},
   "source": [
    "# Monte Carlo Option Pricing & Greeks Analysis\n",
    "\n",
    "**Objective:**  \n",
    "- Implement and analyze Monte Carlo simulation for European option pricing.\n",
    "- Compare different variance reduction techniques:\n",
    "  - Antithetic variates\n",
    "  - Delta control\n",
    "  - Gamma control\n",
    "  - Combinations of the above\n",
    "- Compute and compare option Greeks (Delta, Gamma, Vega, Theta, Rho) using Monte Carlo vs Black-Scholes.\n",
    "- Quantitatively assess standard error reduction and computational efficiency."
   ]
  },
  {
   "cell_type": "code",
   "execution_count": null,
   "metadata": {},
   "outputs": [],
   "source": [
    "# Option parameters\n",
    "S = 101.15      # Underlying asset price\n",
    "X = 98.01       # Strike price\n",
    "vol = 0.0991    # Annualized volatility\n",
    "r = 0.015       # Risk-free rate\n",
    "T = 60/365      # Time to maturity (years)\n",
    "type_opt = \"C\"  # Call option\n",
    "\n",
    "# Monte Carlo parameters\n",
    "N = 20          # Time steps\n",
    "M = 5000        # Simulation paths\n",
    "\n",
    "# Standard normal random numbers\n",
    "Z = np.random.normal(size=(N, M))"
   ]
  },
  {
   "cell_type": "code",
   "execution_count": null,
   "metadata": {},
   "outputs": [],
   "source": [
    "# Compare Greeks using Black-Scholes vs Monte Carlo\n",
    "df_greeks = compare_greeks(S, X, vol, r, N, M, Z, T, type=type_opt)\n",
    "df_greeks"
   ]
  },
  {
   "cell_type": "markdown",
   "metadata": {},
   "source": [
    "**Observation:**  \n",
    "- Monte Carlo estimates should approximate Black-Scholes values within standard error.\n",
    "- Theta may be slightly noisy due to finite-difference estimation."
   ]
  },
  {
   "cell_type": "code",
   "execution_count": null,
   "metadata": {},
   "outputs": [],
   "source": [
    "# Compare Monte Carlo variants (prices, SE, computation times)\n",
    "df_benchmark = benchmark_mc_variants(S, X, vol, r, N, M, Z, T, type=type_opt)\n",
    "df_benchmark"
   ]
  },
  {
   "cell_type": "markdown",
   "metadata": {},
   "source": [
    "**Observation:**  \n",
    "- Variance reduction methods (antithetic, delta, gamma) reduce standard error.\n",
    "- Examine computation time vs SE trade-offs."
   ]
  },
  {
   "cell_type": "code",
   "execution_count": null,
   "metadata": {},
   "outputs": [],
   "source": [
    "plt.figure(figsize=(8,5))\n",
    "sns.barplot(x='Variant', y='SE', data=df_benchmark)\n",
    "plt.title(\"Monte Carlo Variants: Standard Error Comparison\")\n",
    "plt.ylabel(\"Standard Error\")\n",
    "plt.show()"
   ]
  },
  {
   "cell_type": "code",
   "execution_count": null,
   "metadata": {},
   "outputs": [],
   "source": [
    "M_values = [1000, 5000, 10000, 20000]\n",
    "SEs = []\n",
    "\n",
    "for m in M_values:\n",
    "    _, SE, _ = mc_antithetic_delta_gamma(S, X, vol, r, N, m, Z[:, :m], T, type_opt)\n",
    "    SEs.append(SE)\n",
    "\n",
    "plt.figure(figsize=(8,5))\n",
    "plt.plot(M_values, SEs, marker='o')\n",
    "plt.xlabel(\"Number of Monte Carlo Paths (M)\")\n",
    "plt.ylabel(\"Standard Error\")\n",
    "plt.title(\"Convergence of Monte Carlo Standard Error\")\n",
    "plt.show()"
   ]
  },
  {
   "cell_type": "code",
   "execution_count": null,
   "metadata": {},
   "outputs": [],
   "source": [
    "vols = np.linspace(0.05, 0.2, 5)\n",
    "Ts = np.linspace(30/365, 180/365, 5)\n",
    "heatmap_data = np.zeros((len(vols), len(Ts)))\n",
    "\n",
    "for i, vol_i in enumerate(vols):\n",
    "    for j, T_j in enumerate(Ts):\n",
    "        _, SE, _ = mc_antithetic_delta_gamma(S, X, vol_i, r, N, M, Z, T_j, type_opt)\n",
    "        heatmap_data[i, j] = SE\n",
    "\n",
    "plt.figure(figsize=(8,6))\n",
    "sns.heatmap(heatmap_data, xticklabels=np.round(Ts,2), yticklabels=np.round(vols,2))\n",
    "plt.xlabel(\"Time to Maturity (years)\")\n",
    "plt.ylabel(\"Volatility\")\n",
    "plt.title(\"MC SE Heatmap: Volatility vs Maturity\")\n",
    "plt.show()"
   ]
  },
  {
   "cell_type": "markdown",
   "metadata": {},
   "source": [
    "**Insights:**\n",
    "- Combined variance reduction (antithetic + delta + gamma) consistently minimizes standard error.\n",
    "- Increasing the number of paths M decreases SE, but with diminishing returns.\n",
    "- Monte Carlo Greeks generally match Black-Scholes values within SE.\n",
    "- Theta is noisier due to finite-difference estimation; larger M/N improves stability.\n",
    "- This analysis demonstrates quantitative understanding of variance reduction, convergence, and sensitivity of option prices and Greeks."
   ]
  }
 ],
 "metadata": {
  "kernelspec": {
   "display_name": ".venv",
   "language": "python",
   "name": "python3"
  },
  "language_info": {
   "codemirror_mode": {
    "name": "ipython",
    "version": 3
   },
   "file_extension": ".py",
   "mimetype": "text/x-python",
   "name": "python",
   "nbconvert_exporter": "python",
   "pygments_lexer": "ipython3",
   "version": "3.13.5"
  }
 },
 "nbformat": 4,
 "nbformat_minor": 2
}
